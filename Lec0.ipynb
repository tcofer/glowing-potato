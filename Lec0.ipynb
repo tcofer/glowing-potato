{
 "cells": [
  {
   "cell_type": "markdown",
   "metadata": {
    "slideshow": {
     "slide_type": "slide"
    }
   },
   "source": [
    "<script>\n",
    "    console.log(\"Hello. You'll see this printed in your browser's DevTools / Console. Feel free to delete this line.\");\n",
    "    document.querySelector('head').innerHTML += '<style>.slides { zoom: 1.0 !important; }</style>';\n",
    "</script>\n",
    "<h1>Lecture 0: Course Overview and Introduction to Data Science</h1>\n",
    "DATA 3000 202102 (Cofer)"
   ]
  },
  {
   "cell_type": "markdown",
   "metadata": {
    "slideshow": {
     "slide_type": "slide"
    }
   },
   "source": [
    "<h2>Welcome to DATA 3000: Foundations of Data Science!</h2><br>\n",
    "<span class=\"fragment\"><b>Topics:</b> What this course is, what you'll learn, and where to find crucial course information</span>"
   ]
  },
  {
   "cell_type": "markdown",
   "metadata": {
    "slideshow": {
     "slide_type": "slide"
    }
   },
   "source": [
    "<h3>What is DATA 3000?</h3>\n",
    "\n",
    "<p class=\"fragment\">Course Description:</p>\n",
    "<p class=\"fragment\">Prerequisite:  CSCI 1371 or Permission of Instructor</p>\n",
    "<p class=\"fragment\">This course provides an overview of the field of Data Analytics and its main ideas. Topics include big data, small data, mining of data, basic quantitative data analysis concepts and applications, basic qualitative data analysis concepts and applications, mixed methods, communicating findings, and visualizing data.</p>"
   ]
  },
  {
   "cell_type": "markdown",
   "metadata": {
    "slideshow": {
     "slide_type": "slide"
    }
   },
   "source": [
    "<h3>What will you get out of DATA 3000?</h3>\n",
    "<p class=\"fragment\"> You will learn to approach problems from a data science perspective. (lifecycle/workflow)</p>\n",
    "<p class=\"fragment\"> You will understand data and the fundamental principles behind extracting useful knowledge from data sets.</p>\n",
    "<p class=\"fragment\">You will gain hands-on experience using Python and Jupyter notebooks to eplore, visualize, and create useful models from data.</p>\n",
    "<p class=\"fragment\">You will develop skills in storytelling with data. (effectively communicating findings)</p>"
   ]
  },
  {
   "cell_type": "markdown",
   "metadata": {
    "slideshow": {
     "slide_type": "slide"
    }
   },
   "source": [
    "<h3>Where can you find course information?</h3>\n",
    "\n",
    "<p class=\"fragment\">- D2L</p>\n",
    "<p class=\"fragment\">- <a href=\"https://classroom.github.com/\">Github Classroom</a></p>\n",
    "<p class=\"fragment\">- <a href=\"https://tcofer.github.io/Data-3000-202102-Additional-Materials/\">Github Resources Website</a></p>"
   ]
  },
  {
   "cell_type": "markdown",
   "metadata": {
    "slideshow": {
     "slide_type": "fragment"
    }
   },
   "source": [
    "Let's Review the <a href=\"https://tcofer.github.io/Data-3000-202102-Additional-Materials/DATA%203000.COFER.20077.202102.pdf\">Syllabus</a>."
   ]
  },
  {
   "cell_type": "markdown",
   "metadata": {
    "slideshow": {
     "slide_type": "slide"
    }
   },
   "source": [
    "<h2>What is Data Science?</h2><br>\n",
    "<span class=\"fragment\"><b>Topics:</b> What data science is, fundamentals of big data, overview of the data science lifecycle/workflow, types of analytics, asking questions about data, real-world examples of data science in action</span>"
   ]
  },
  {
   "cell_type": "markdown",
   "metadata": {
    "slideshow": {
     "slide_type": "slide"
    }
   },
   "source": [
    "<h3>Defining Data Science</h3>\n",
    "<p class=\"fragment\"><span style=\"font-size:18pt\"><em><span style=color:blue>“The first rule of data science is: don’t ask how to define data science.”</span> -Josh Bloom, UC Berkeley professor of astronomy and lead (PI) at the Berkeley Institute for Data Science</em></span>  \n",
    "<p class=\"fragment\" style=\"font-size:18pt\"><b>Attempt #1: </b><span style=\"color:blue\">Data science</span> is the science of extracting of value (information and insights) from data.</p>\n",
    "<p class=\"fragment\" style=\"font-size:18pt\"><b>Attempt #2: </b><span style=\"color:blue\">Data science</span> is the academic discipline that lies at the intersection of computer science, mathematics/statistics, and domain-specific expertise.</p>"
   ]
  },
  {
   "cell_type": "markdown",
   "metadata": {
    "slideshow": {
     "slide_type": "slide"
    }
   },
   "source": [
    "<b>Data Science is Interdisciplinary</b>\n",
    "\n",
    "<center><img src=\"Data-Science-Venn.png\" /></center>"
   ]
  },
  {
   "cell_type": "markdown",
   "metadata": {
    "slideshow": {
     "slide_type": "slide"
    }
   },
   "source": [
    "<center><img src=\"machine_learning_xkcd.png\" /></center>"
   ]
  },
  {
   "cell_type": "markdown",
   "metadata": {
    "slideshow": {
     "slide_type": "slide"
    }
   },
   "source": [
    "<B>Why Data Science?</B>\n",
    "<span class=\"fragment\">Scientists, mathematicians, and coders have been analyzing data for a long time. Why does <em>data</em> need its own <em>science</em> all of a sudden?</span>\n",
    "<center><span class=\"fragment\">BIG DATA = </span> <span class=\"fragment\">VOLUME +</span> <span class=\"fragment\">VELOCITY +</span> <span class=\"fragment\">VARIETY</span></center>\n",
    "\n",
    "<center><img src=\"3v.jpg\" class=\"fragment\" /></center>"
   ]
  },
  {
   "cell_type": "markdown",
   "metadata": {
    "slideshow": {
     "slide_type": "slide"
    }
   },
   "source": [
    "<h3>What is Big Data?</h3>\n",
    "<center><img src=\"3v-venn.png\" /></center>"
   ]
  },
  {
   "cell_type": "markdown",
   "metadata": {
    "slideshow": {
     "slide_type": "slide"
    }
   },
   "source": [
    "<h4>Data Volume: Big Means BIG</h4>\n",
    "\n",
    "Data sets are now so vast and complex that they require \"a scalable architecture for efficient storage, manipulation, and analysis\"- <a href=\"https://bigdatawg.nist.gov/_uploadfiles/NIST.SP.1500-1.pdf\"> National Institute of Standards and Technology report</a>\n",
    "<center><img src=\"data-growth1.png\" class=\"fragment\" /></center>"
   ]
  },
  {
   "cell_type": "markdown",
   "metadata": {
    "slideshow": {
     "slide_type": "slide"
    }
   },
   "source": [
    "<center><h4>Data Velocity</h4></center>\n",
    "<center><img src=\"Velocity4.jpg\" /></center>"
   ]
  },
  {
   "cell_type": "markdown",
   "metadata": {
    "slideshow": {
     "slide_type": "slide"
    }
   },
   "source": [
    "<center><h4>Data Variety</h4></center> <br>\n",
    "\n",
    "<center><b style=\"color:#40576b\"><span class=\"fragment\"> Web data,</span> <span class=\"fragment\">e-commerce data,</span> <span class=\"fragment\">financial transaction data,</span> <span class=\"fragment\">social network data,</span><span class=\"fragment\"> sensor data,</span> <span class=\"fragment\">streaming data...</span></b></center><br>\n",
    " <span class=\"fragment\"> The list goes on and on. </span> <span class=\"fragment\">If it can be collected, it will.</span>\n",
    " <p class=\"fragment\">And it's often <em>bought</em> and <em>sold.</em></p>"
   ]
  },
  {
   "cell_type": "markdown",
   "metadata": {
    "slideshow": {
     "slide_type": "slide"
    }
   },
   "source": [
    "<h3>The Data Science Process</h3><br>\n",
    "<span class=\"fragment\">The <em>lifecycle</em> of a data science project or the data science <em>workflow</em> is a description of the distinct stages of the project. <span class=\"fragment\"> These stages may be slightly different for different application areas and they may be described at different scales.</span> <span class=\"fragment\">Let's look at two versions.</span>"
   ]
  },
  {
   "cell_type": "markdown",
   "metadata": {
    "slideshow": {
     "slide_type": "slide"
    }
   },
   "source": [
    "<h4>The Basic Workflow</h4>\n",
    "<center><img src=\"Data-lifecycle.png\" /></center>"
   ]
  },
  {
   "cell_type": "markdown",
   "metadata": {
    "slideshow": {
     "slide_type": "slide"
    }
   },
   "source": [
    "<h4>A More Detailed Workflow</h4>\n",
    "<center><img src=\"data-science-process.jpg\" /></center>"
   ]
  },
  {
   "cell_type": "markdown",
   "metadata": {
    "cell_style": "center",
    "slideshow": {
     "slide_type": "slide"
    }
   },
   "source": [
    "<img src=\"process2.jpg\" align=\"left\" style=\"padding-right: 55px\" /><br><br>\n",
    "    <p class=\"fragment\">$1 \\rightarrow 2 \\rightarrow 3$ (typical science)</p>\n",
    "    <p class=\"fragment\">$2 \\rightarrow 1 \\rightarrow 3$ (analytics)</p>\n",
    "    <p class=\"fragment\">$2\\rightarrow 3 \\rightarrow 1$ (analytics)</p>"
   ]
  },
  {
   "cell_type": "markdown",
   "metadata": {
    "slideshow": {
     "slide_type": "slide"
    }
   },
   "source": [
    "<h3>Categories of Questions: Types of Analytics</h3>\n",
    "<center><img src=\"types-analytics.jpg\" /></center>"
   ]
  },
  {
   "cell_type": "markdown",
   "metadata": {
    "slideshow": {
     "slide_type": "slide"
    }
   },
   "source": [
    "<h3>Asking Questions of Data</h3>\n",
    "<ul>\n",
    "    <li class=\"fragment\"> What things can I learn from a given data set?</li>\n",
    "    <li class=\"fragment\"> What problem do I need to solve?</li>\n",
    "    <li class=\"fragment\"> Is my question focused, clear and well-articulated? </li>\n",
    "    <li class=\"fragment\"> Can my question be answered by analyzing my data set?</li>\n",
    "</ul>"
   ]
  },
  {
   "cell_type": "markdown",
   "metadata": {
    "slideshow": {
     "slide_type": "slide"
    }
   },
   "source": [
    "<h3>Examples of Real-World Data Science in Action</h3>\n",
    "\n",
    "<p class=\"fragment\">-Though difficult to define, data science (usually called data <em>analytics</em> outside of academia) is powerful, indispensible for modern life, and it's everywhere. </p> \n",
    "<p class=\"fragment\">-Let's look at a couple of examples of analytics in action: one in retail and one in sports.\n"
   ]
  },
  {
   "cell_type": "markdown",
   "metadata": {
    "slideshow": {
     "slide_type": "slide"
    }
   },
   "source": [
    "<p>As we go over these examples, let's practice:</p>\n",
    "<p class=\"fragment\">-asking good questions</p>\n",
    "<p class=\"fragment\">-thinking about what the analysts needed from their data to solve their problem/answer their question.</p>"
   ]
  },
  {
   "cell_type": "markdown",
   "metadata": {
    "slideshow": {
     "slide_type": "slide"
    }
   },
   "source": [
    "<h4>Data Analytics Example #1: Wal-Mart Prepares for a Hurricane</h4>\n",
    "\n",
    "<p class=\"fragment\">In 2004, Hurricane Frances was threatening a direct hit on Florida's Atlantic coast … A week ahead of the storm's landfall, Wal-Mart's CIO pressed her staﬀ to come up with forecasts based on what had happened when Hurricane Charley struck several weeks earlier. (Ref: <em>What Wal-Mart knows about customer habits</em>, NYT (2004)</p>\n",
    "<p class=\"fragment\"> Walmart was reported to possess 460 terabytes of transactional data at the time-- more than the capacity of the internet in 2004.</p>\n",
    "\n",
    "<p class=\"fragment\">What questions would you want answer using the data if you were the CIO?</p>"
   ]
  },
  {
   "cell_type": "markdown",
   "metadata": {
    "slideshow": {
     "slide_type": "slide"
    }
   },
   "source": [
    " <p class=\"fragment\"><b>Wal-Mart Hurricane Frances Key Findings:</b></p>\n",
    "<center><img src=\"poptarts.jpg\" class=\"fragment\" /><center>\n",
    "    <p class=\"fragment\">- There was a 7-fold increase in <b>strawberry pop-tarts</b> sales before the hurricane.</p>\n",
    "    <p class=\"fragment\">- The top sellers before the hurricane were <b>alcoholic beverages</b>.</p>"
   ]
  },
  {
   "cell_type": "markdown",
   "metadata": {
    "slideshow": {
     "slide_type": "slide"
    }
   },
   "source": [
    "<center><h4>Data Analytics Example #2: The Analytics That Changed the NBA</h4></center>\n",
    "\n",
    "<center><img src=\"morey-nba.png\" /></center>"
   ]
  },
  {
   "cell_type": "markdown",
   "metadata": {
    "slideshow": {
     "slide_type": "slide"
    }
   },
   "source": [
    "<span class=\"fragment\"><b>Moreyball</b> <img src=\"hr.png\" align=\"right\" /> <br></span>\n",
    "\n",
    "<span class=\"fragment\"> Daryl Morey was GM for the Houston Rockets from 2007-2020.</span> <span class=\"fragment\">He never had a losing season, </span>  <span class=\"fragment\">and the Rockets made the playoffs in 11 of those 14 seasons, including the last 8.</span>\n",
    "\n",
    "<p class=\"fragment\">Why was Morey so successful?</p>\n",
    "\n",
    "<span class=\"fragment\">He had an academic and professional background in data analytics and he used analytics to help him win games.</span> <span class=\"fragment\">His use of analytics caught on and changed the NBA.</span> <span class=\"fragment\">What did Morey notice and how did that change the game? Let's find out.</span>"
   ]
  },
  {
   "cell_type": "markdown",
   "metadata": {
    "slideshow": {
     "slide_type": "slide"
    }
   },
   "source": [
    "<b>What Morey Knew</b>\n",
    "\n",
    "<span class=\"fragment\">Morey's basic insight: 3-point shots are more mathematically efficient than most 2-point shots. (Only dunks and layups are more efficient.) </span> <span class=\"fragment\">The Rockets started shooting more from outside the 3-point line, and they won games. </span> <span class=\"fragment\">Lots of them. </span> <span class=\"fragment\"> So many, that in 2009, the NBA began using a video system that tracked players and the ball 25 times a second.</span>"
   ]
  },
  {
   "cell_type": "markdown",
   "metadata": {
    "slideshow": {
     "slide_type": "slide"
    }
   },
   "source": [
    "<b>How Morey's Idea Spread</b>\n",
    "\n",
    "<p class=\"fragment\"> What Morey, and ultimately all NBA analysts did was to use the video data collected to figure out which players and which field goal attempts were actually helping their team win.</p>\n",
    "\n",
    "<span class=\"fragment\">How did this change the NBA?</span> <span class=\"fragment\">In 2012, NBA teams took, on average, only 18.4 3-point shots per game. In 2017, teams took 27 (~50% increase).</span>"
   ]
  },
  {
   "cell_type": "markdown",
   "metadata": {
    "slideshow": {
     "slide_type": "slide"
    }
   },
   "source": [
    "<b>Big Data and the NBA: How Morey (and Others) Used Data to Win Games</b>\n",
    "<p style=\"font-size:80%\">The following and visualizations are from <em>SprawlBall: A Visual Tour of the New Era of the NBA</em> by Kirk Goldsberry. </p>"
   ]
  },
  {
   "cell_type": "markdown",
   "metadata": {
    "cell_style": "center",
    "slideshow": {
     "slide_type": "slide"
    }
   },
   "source": [
    "<div class=\"cf\">\n",
    "<img src=\"nba1-50.png\" align=\"right\" style=\"padding-left: 15px\" /><br>      <span class=\"fragment\">\n",
    "        Each dot represents a field goal attempt by a player in an NBA game during the 2014-15 season.\n",
    "        </span><br><br>\n",
    "        <span class=\"fragment\"> If you were trying to answer the question: What types of field goal attempts, what additional information would you like to have?</span> \n",
    "</div>"
   ]
  },
  {
   "cell_type": "markdown",
   "metadata": {
    "cell_style": "center",
    "slideshow": {
     "slide_type": "slide"
    }
   },
   "source": [
    "<div class=\"cf\">\n",
    "    <img src=\"nba2-50.png\" align=\"right\" style=\"padding-left: 15px\" />\n",
    "        <span class=\"fragment\">NBA analysts first looked at field goal percentage- the percentage of successful shots made-- for different distances from the basket. \n",
    "        </span>\n",
    "        <span class=\"fragment\"><b>What do you notice?</b>\n",
    "        </span><span class=\"fragment\"><br><br> The analysts noticed that players make only ~40% of their shots 8-9ft from the basket, and ~35% 25-26ft from the basket.</span>\n",
    "</div>    "
   ]
  },
  {
   "cell_type": "markdown",
   "metadata": {
    "cell_style": "center",
    "slideshow": {
     "slide_type": "slide"
    }
   },
   "source": [
    "<div class=\"cf\">\n",
    "<img src=\"nba3-50.png\" align=\"right\" style=\"padding-left: 15px\" />\n",
    "        <span class=\"fragment\">The analysts then looked at points points per shot- the average number of points earned per field goal attempt- for different distances from the basket. \n",
    "        </span>\n",
    "        <span class=\"fragment\"><br>When you see it, you know why Morey's insight was genius. He was the first to take action on the undeniable mathematical benefit of having players shoot from just outside the the 3-point line.\n",
    "        </span>\n",
    "</div>"
   ]
  },
  {
   "cell_type": "markdown",
   "metadata": {
    "slideshow": {
     "slide_type": "slide"
    }
   },
   "source": [
    "<center><img src=\"nba4-80.png\" /></center>"
   ]
  },
  {
   "cell_type": "markdown",
   "metadata": {
    "slideshow": {
     "slide_type": "slide"
    }
   },
   "source": [
    "<center><h1>Next Topic: GitHub, Python, and Jupyter Notebooks!</h1></center>"
   ]
  }
 ],
 "metadata": {
  "celltoolbar": "Slideshow",
  "kernelspec": {
   "display_name": "Python 3",
   "language": "python",
   "name": "python3"
  },
  "language_info": {
   "codemirror_mode": {
    "name": "ipython",
    "version": 3
   },
   "file_extension": ".py",
   "mimetype": "text/x-python",
   "name": "python",
   "nbconvert_exporter": "python",
   "pygments_lexer": "ipython3",
   "version": "3.8.5"
  },
  "toc": {
   "base_numbering": "0",
   "nav_menu": {},
   "number_sections": true,
   "sideBar": true,
   "skip_h1_title": true,
   "title_cell": "Table of Contents",
   "title_sidebar": "Contents",
   "toc_cell": false,
   "toc_position": {
    "height": "392px",
    "left": "31px",
    "top": "483px",
    "width": "476.273px"
   },
   "toc_section_display": true,
   "toc_window_display": false
  }
 },
 "nbformat": 4,
 "nbformat_minor": 4
}
