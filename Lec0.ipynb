{
 "cells": [
  {
   "cell_type": "markdown",
   "metadata": {
    "slideshow": {
     "slide_type": "skip"
    }
   },
   "source": [
    "<h1>This is an example Binder file</h1>\n",
    "\n",
    "<span style=\"text-align:left\">DATA 3000 202102 (Cofer)</span>\n",
    "\n",
    "<table style=\"width:30%\" align=\"left\" style=\"color:#FFF\">\n",
    "  <tr>\n",
    "    <td bgcolor=\"#FFF\"><a href=\"https://mybinder.org/v2/gh/tcofer/glowing-potato/25465c225ae069ba85f52cb263070b7c1b4eef09?filepath=Lec0.ipynb\"><img src=\"launch-binder-579ACA.svg\" style=\"margin-left:0px\"/></a></td><!--\n",
    "--><td bgcolor=\"#FFF\"><a href=\"https://tcofer.github.io/Data-3000-202102-Additional-Materials/Lectures/fried/Lec0.ipynb\"><img src=\"GitHub-Download-blue.svg\" float=\"left\"/></a></td>  \n",
    "  </tr>\n",
    "</table>"
   ]
  },
  {
   "cell_type": "markdown",
   "metadata": {
    "slideshow": {
     "slide_type": "slide"
    }
   },
   "source": [
    "<h2 style=\"font-size:120%\">Lecture 0 contains no code cells, so this Binder is an example only. Lectures 1 and later will have code and will be posted in full at this binder site.</h2><br>\n",

   ]
  },
  {
   "cell_type": "markdown",
   "metadata": {
    "slideshow": {
     "slide_type": "slide"
    }
   },
   "source": [
    "<h3>Example</h3>\n",
    "\n",
    "<p class=\"fragment\">Example a</p>\n",
    "<p class=\"fragment\">example b</p>\n",
    "<p class=\"fragment\">example c</p>"
   ]
  },
  
 "metadata": {
  "_draft": {
   "nbviewer_url": "https://gist.github.com/58c563ad4a9b6af30f4546f4c1abb8f9"
  },
  "gist": {
   "data": {
    "description": "_Fall-2021-DATA-3000/Week-0-Lecture-All-Files/Lec0.ipynb",
    "public": false
   },
   "id": "58c563ad4a9b6af30f4546f4c1abb8f9"
  },
  "kernelspec": {
   "display_name": "Python 3",
   "language": "python",
   "name": "python3"
  },
  "language_info": {
   "codemirror_mode": {
    "name": "ipython",
    "version": 3
   },
   "file_extension": ".py",
   "mimetype": "text/x-python",
   "name": "python",
   "nbconvert_exporter": "python",
   "pygments_lexer": "ipython3",
   "version": "3.8.5"
  },
  "toc": {
   "base_numbering": "0",
   "nav_menu": {},
   "number_sections": true,
   "sideBar": false,
   "skip_h1_title": true,
   "title_cell": "Table of Contents",
   "title_sidebar": "Contents",
   "toc_cell": false,
   "toc_position": {
    "height": "392px",
    "left": "31px",
    "top": "483px",
    "width": "476.273px"
   },
   "toc_section_display": false,
   "toc_window_display": false
  }
 },
 "nbformat": 4,
 "nbformat_minor": 4
}
