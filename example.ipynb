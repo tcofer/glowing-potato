{
 "cells": [
  {
   "cell_type": "markdown",
   "metadata": {
    "slideshow": {
     "slide_type": "skip"
    }
   },
   "source": [
    "<h1>Example Binder File</h1>\n",
    "\n",
    "<span style=\"text-align:left\">DATA 3000 202102 (Cofer)</span>\n"
   ]
  },
  {
   "cell_type": "markdown",
   "metadata": {
    "slideshow": {
     "slide_type": "slide"
    }
   },
   "source": [
    "<h2 style=\"font-size:120%\">This is a test...</h2><br>\n",
    "<span class=\"fragment\">Lecture 0 has no code cells. This is a test file for demonstration purposes. Lectures 1 and later will have code and will be available on Binder in their entirety."
   ]
  },
  {
   "cell_type": "markdown",
   "metadata": {
    "slideshow": {
     "slide_type": "slide"
    }
   },
   "source": [
    "#### You can edit this markdown cell...\n",
    "\n",
    "Select this cell then key `enter`. This puts the cell in `edit mode`. Replace replace the text below and then key `ctrl+enter` to return the cell to \"command mode.\"\n",
    "\n",
    "This is sample text. Replace this text with your own."
   ]
  },
  {
   "cell_type": "code",
   "execution_count": 1,
   "metadata": {
    "slideshow": {
     "slide_type": "slide"
    }
   },
   "outputs": [],
   "source": [
    "#You can edit this code cell...\n",
    "#Select this cell then key enter. Replace the phrase in quotes below and then key ctrl+enter to run.\n",
    "print(\"Hello, World!\")"
   ]
  }
 ],
 "metadata": {
  "_draft": {
   "nbviewer_url": "https://gist.github.com/58c563ad4a9b6af30f4546f4c1abb8f9"
  },
  "gist": {
   "data": {
    "description": "_Fall-2021-DATA-3000/Week-0-Lecture-All-Files/Lec0.ipynb",
    "public": false
   },
   "id": "58c563ad4a9b6af30f4546f4c1abb8f9"
  },
  "kernelspec": {
   "display_name": "Python 3",
   "language": "python",
   "name": "python3"
  },
  "language_info": {
   "codemirror_mode": {
    "name": "ipython",
    "version": 3
   },
   "file_extension": ".py",
   "mimetype": "text/x-python",
   "name": "python",
   "nbconvert_exporter": "python",
   "pygments_lexer": "ipython3",
   "version": "3.8.5"
  },
  "toc": {
   "base_numbering": "0",
   "nav_menu": {},
   "number_sections": false,
   "sideBar": false,
   "skip_h1_title": true,
   "title_cell": "Table of Contents",
   "title_sidebar": "Contents",
   "toc_cell": false,
   "toc_position": {
    "height": "392px",
    "left": "31px",
    "top": "146px",
    "width": "245px"
   },
   "toc_section_display": false,
   "toc_window_display": false
  }
 },
 "nbformat": 4,
 "nbformat_minor": 4
}
